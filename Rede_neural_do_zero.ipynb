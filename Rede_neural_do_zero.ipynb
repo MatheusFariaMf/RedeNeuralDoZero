{
  "nbformat": 4,
  "nbformat_minor": 0,
  "metadata": {
    "colab": {
      "provenance": [],
      "authorship_tag": "ABX9TyNy+oqZ9HxolW/+xRIP0r/z",
      "include_colab_link": true
    },
    "kernelspec": {
      "name": "python3",
      "display_name": "Python 3"
    },
    "language_info": {
      "name": "python"
    }
  },
  "cells": [
    {
      "cell_type": "markdown",
      "metadata": {
        "id": "view-in-github",
        "colab_type": "text"
      },
      "source": [
        "<a href=\"https://colab.research.google.com/github/MatheusFariaMf/RedeNeuralDoZero/blob/main/Rede_neural_do_zero.ipynb\" target=\"_parent\"><img src=\"https://colab.research.google.com/assets/colab-badge.svg\" alt=\"Open In Colab\"/></a>"
      ]
    },
    {
      "cell_type": "code",
      "execution_count": 25,
      "metadata": {
        "id": "KKc7yYM3T_wE"
      },
      "outputs": [],
      "source": [
        "import numpy as np\n",
        "import torch\n",
        "import torch.nn.functional as F\n",
        "import torchvision\n",
        "import matplotlib.pyplot as plt\n",
        "from time import time\n",
        "from torchvision import datasets, transforms\n",
        "from torch import nn, optim"
      ]
    },
    {
      "cell_type": "code",
      "source": [
        "transform = transforms.ToTensor() # definindo a conversão de imagem para tensor\n",
        "\n",
        "#trainset = datasets.MNIST('./MNIST_data/', download=True, train=True, transform=transform) #Carrega a parte de treino do dataset\n",
        "trainset = datasets.MNIST('./', download=True,\n",
        "transform=transforms.Compose([\n",
        "transforms.ToTensor(),\n",
        "]), train=True)\n",
        "trainloader = torch.utils.data.DataLoader(trainset, batch_size=64, shuffle=True) # Cria um buffer para pegar os dados por partes\n",
        "\n",
        "valset = datasets.MNIST('./MNIST_data/', download=True, train=True, transform=transform) #Carrega a parte de validação do dataset\n",
        "valloader = torch.utils.data.DataLoader(valset, batch_size=64, shuffle=True) # Cria um buffer para pegar os dados por parte"
      ],
      "metadata": {
        "id": "AkFXMOCSakgn"
      },
      "execution_count": 26,
      "outputs": []
    },
    {
      "cell_type": "code",
      "source": [
        "dataiter = iter(trainloader)\n",
        "imagens, etiquetas = next(dataiter)\n",
        "plt.imshow(imagens[0].numpy().squeeze(), cmap='gray_r');"
      ],
      "metadata": {
        "colab": {
          "base_uri": "https://localhost:8080/",
          "height": 430
        },
        "id": "tDObfVK8PThR",
        "outputId": "dc53e3c6-791f-49bb-a0c2-05cb5b544774"
      },
      "execution_count": 27,
      "outputs": [
        {
          "output_type": "display_data",
          "data": {
            "text/plain": [
              "<Figure size 640x480 with 1 Axes>"
            ],
            "image/png": "[encoded data removed]"
          },
          "metadata": {}
        }
      ]
    },
    {
      "cell_type": "code",
      "source": [
        "print(imagens[0].shape) # para verificar as dimensões do tensor de cada imagem\n",
        "print(etiquetas[0].shape) # para verificar as dimensões do tensor de cada etiqueta"
      ],
      "metadata": {
        "colab": {
          "base_uri": "https://localhost:8080/"
        },
        "id": "Qh48jCt9SRYq",
        "outputId": "fb3e89ca-c2e8-49ba-954b-ce3a4b6a3b98"
      },
      "execution_count": 28,
      "outputs": [
        {
          "output_type": "stream",
          "name": "stdout",
          "text": [
            "torch.Size([1, 28, 28])\n",
            "torch.Size([])\n"
          ]
        }
      ]
    },
    {
      "cell_type": "code",
      "source": [
        "class Modelo(torch.nn.Module):\n",
        "  # Define the layers of the model here\n",
        "  def __init__(self):\n",
        "    super(Modelo, self).__init__()\n",
        "    self.linear1 = torch.nn.Linear(784, 128, bias=True)\n",
        "    self.linear2 = torch.nn.Linear(128, 64, bias=True)\n",
        "    self.linear3 = torch.nn.Linear(64, 10, bias=True)\n",
        "\n",
        "  # Define the forward pass of the model here\n",
        "  def forward(self, x):\n",
        "    x = self.linear1(x)\n",
        "    x = torch.nn.functional.relu(x)  # Add a ReLU activation after each linear layer\n",
        "    x = self.linear2(x)\n",
        "    x = torch.nn.functional.relu(x)\n",
        "    x = self.linear3(x)\n",
        "    return x"
      ],
      "metadata": {
        "id": "2m1iepP-U_l6"
      },
      "execution_count": 29,
      "outputs": []
    },
    {
      "cell_type": "code",
      "source": [
        "def treino(modelo, trainloader, device):\n",
        "\n",
        "  otimizador = optim.SGD(modelo.parameters(), lr=0.01, momentum=0.5) # Define a política de atualização dos pesos e da bias\n",
        "  inicio = time() # Timer para sabermos quanto tempo levou o treino\n",
        "\n",
        "  criterio = nn.NLLLoss() #Definindo o critério para calcular a perda\n",
        "  EPOCHS = 10 # Número de epochs que o algoritmo rodará\n",
        "  modelo.train() # Ativando o modo de treinamento do modelo\n",
        "\n",
        "  for epoch in range(EPOCHS):\n",
        "    perda_acumulada = 0; # Inicialização da perda acumulada da epoch em questão\n",
        "\n",
        "    for imagens, etiquetas in trainloader:\n",
        "\n",
        "      imagens = imagens.view(imagens.shape[0], -1) # Convertendo as imagens para \"vetores\" de 28*28 casas para ficarem compatíveis com a\n",
        "      otimizador.zero_grad() # Zerando os gradientes por conta do ciclo anterior\n",
        "\n",
        "      output = modelo(imagens.to(device)) # Colocando os dados no modelo\n",
        "      perda_instantanea = criterio(output, etiquetas.to(device)) # Calculando a perda da epoch em questão\n",
        "\n",
        "      perda_instantanea.backward() # Back propagation a partir da perda\n",
        "\n",
        "      otimizador.step() # Atualizando os pesos e a bias\n",
        "\n",
        "      perda_acumulada += perda_instantanea.item() # Atualização da perda acumulada\n",
        "\n",
        "    else:\n",
        "      print(\"Epoch {} - Perda resultante: {}\".format(epoch+1, perda_acumulada/len(trainloader)))\n",
        "  print(\"\\nTempo de treino (em minutos) = \", (time()-inicio)/60)"
      ],
      "metadata": {
        "id": "jvLIdIQbW5Mk"
      },
      "execution_count": 30,
      "outputs": []
    },
    {
      "cell_type": "code",
      "source": [
        "modelo = Modelo()\n",
        "device = torch.device(\"cuda\" if torch.cuda.is_available() else \"cpu\")\n",
        "modelo.to(device)\n",
        "\n",
        "# Iniciando o treino\n",
        "treino(modelo, trainloader, device)"
      ],
      "metadata": {
        "colab": {
          "base_uri": "https://localhost:8080/"
        },
        "id": "b7SKW4O3aLjM",
        "outputId": "3176b7a8-670b-429d-e167-9884bda553eb"
      },
      "execution_count": 31,
      "outputs": [
        {
          "output_type": "stream",
          "name": "stdout",
          "text": [
            "Epoch 1 - Perda resultante: nan\n",
            "Epoch 2 - Perda resultante: nan\n",
            "Epoch 3 - Perda resultante: nan\n",
            "Epoch 4 - Perda resultante: nan\n",
            "Epoch 5 - Perda resultante: nan\n",
            "Epoch 6 - Perda resultante: nan\n",
            "Epoch 7 - Perda resultante: nan\n",
            "Epoch 8 - Perda resultante: nan\n",
            "Epoch 9 - Perda resultante: nan\n",
            "Epoch 10 - Perda resultante: nan\n",
            "\n",
            "Tempo de treino (em minutos) =  1.4297049641609192\n"
          ]
        }
      ]
    }
  ]
}